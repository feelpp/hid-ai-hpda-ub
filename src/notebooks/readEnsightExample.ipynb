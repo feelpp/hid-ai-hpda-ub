{
 "cells": [
  {
   "cell_type": "code",
   "execution_count": 1,
   "metadata": {},
   "outputs": [],
   "source": [
    "import pyvista as pv\n",
    "from vtk import  *\n",
    "import numpy as np\n",
    "from feelpp.ktirio.hpdaml.read_case import *"
   ]
  },
  {
   "cell_type": "code",
   "execution_count": null,
   "metadata": {},
   "outputs": [],
   "source": [
    "#TODO: Change the path to the case file\n",
    "#NOTE: It can be directly fetched from CKAN via its REST API. ( can be slow depending on connection )\n",
    "filepath = \"./strasbourg_sm_lod1/City_Energy_Modeling.case\"\n",
    "\n",
    "reader = read_case(filepath)"
   ]
  },
  {
   "cell_type": "code",
   "execution_count": null,
   "metadata": {},
   "outputs": [],
   "source": [
    "timeset=reader.GetTimeSets()\n",
    "time=timeset.GetItem(0)\n",
    "timesteps=time.GetSize()"
   ]
  },
  {
   "cell_type": "code",
   "execution_count": null,
   "metadata": {},
   "outputs": [],
   "source": [
    "scalar_field_name = \"solar_shading_coeff\"\n",
    "\n",
    "print(\"Number of timesteps: \", timesteps)\n",
    "print(\"Number of cells: \", reader.GetOutput().GetBlock(0).GetNumberOfCells())\n",
    "print(\"Number of sc points: \", reader.GetOutput().GetBlock(0).GetCellData().GetArray(scalar_field_name).GetNumberOfTuples())"
   ]
  },
  {
   "cell_type": "code",
   "execution_count": null,
   "metadata": {},
   "outputs": [],
   "source": [
    "#TODO:\n",
    "# Save the data in a numpy array ( not scalable for larger datasets )\n",
    "\n",
    "for t in range(timesteps):\n",
    "   #Update timestep\n",
    "   reader.SetTimeValue(time.GetValue(t))\n",
    "   reader.Update()\n",
    "\n",
    "   #Get the cell data\n",
    "   output = reader.GetOutput().GetBlock(0)\n",
    "   cell_data = output.GetCellData()\n",
    "   field_array = cell_data.GetArray(scalar_field_name)\n",
    "\n",
    "   for i in range(output.GetNumberOfCells()):\n",
    "      cell = output.GetCell(i)\n",
    "\n",
    "      cell_points = cell.GetPoints()\n",
    "      \n",
    "      np_cell_points = np.array([cell_points.GetPoint(i) for i in range(cell_points.GetNumberOfPoints())])\n",
    "      print(\"Mesh cell : \",np_cell_points)\n",
    "\n",
    "      cell_value = field_array.GetTuple(i)\n",
    "      print(\"solar mask coefficient\" , cell_value)\n",
    "      \n",
    "      break\n",
    "   break"
   ]
  }
 ],
 "metadata": {
  "kernelspec": {
   "display_name": "Python 3",
   "language": "python",
   "name": "python3"
  },
  "language_info": {
   "codemirror_mode": {
    "name": "ipython",
    "version": 3
   },
   "file_extension": ".py",
   "mimetype": "text/x-python",
   "name": "python",
   "nbconvert_exporter": "python",
   "pygments_lexer": "ipython3",
   "version": "3.9.6"
  }
 },
 "nbformat": 4,
 "nbformat_minor": 2
}
