{
 "cells": [
  {
   "cell_type": "code",
   "execution_count": 1,
   "metadata": {},
   "outputs": [],
   "source": [
    "import pyvista as pv\n",
    "from vtk import  *\n",
    "import numpy as np\n",
    "from feelpp.ktirio.hpdaml.readers import *"
   ]
  },
  {
   "cell_type": "code",
   "execution_count": 2,
   "metadata": {},
   "outputs": [
    {
     "name": "stderr",
     "output_type": "stream",
     "text": [
      "ERROR:root:Unable to open file: ./strasbourg_sm_lod1/City_Energy_Modeling.case\n",
      "\u001b[0m\u001b[31m2024-05-23 12:39:46.975 (   3.588s) [    750929AEA080]   vtkEnSightReader.cxx:1311   ERR| vtkEnSightGoldBinaryReader (0x4943680): Unable to open file: ./strasbourg_sm_lod1/City_Energy_Modeling.case\u001b[0m\n",
      "ERROR:root:Algorithm vtkEnSightGoldBinaryReader (0x4943680) returned failure for request: vtkInformation (0x4945da0)\n",
      "\u001b[0m\u001b[31m2024-05-23 12:39:46.977 (   3.589s) [    750929AEA080]       vtkExecutive.cxx:729    ERR| vtkCompositeDataPipeline (0x4944210): Algorithm vtkEnSightGoldBinaryReader (0x4943680) returned failure for request: vtkInformation (0x4945da0)\n",
      "  Debug: Off\n",
      "  Modified Time: 163\n",
      "  Reference Count: 1\n",
      "  Registered Events: (none)\n",
      "  Request: REQUEST_INFORMATION\n",
      "  ALGORITHM_AFTER_FORWARD: 1\n",
      "  FORWARD_DIRECTION: 0\n",
      "\n",
      "\u001b[0m\n"
     ]
    }
   ],
   "source": [
    "#TODO: Change the path to the case file\n",
    "#NOTE: It can be directly fetched from CKAN via its REST API. ( can be slow depending on connection )\n",
    "filepath = \"./strasbourg_sm_lod1/City_Energy_Modeling.case\"\n",
    "\n",
    "reader = read_case(filepath)"
   ]
  },
  {
   "cell_type": "code",
   "execution_count": null,
   "metadata": {},
   "outputs": [],
   "source": [
    "\n",
    "timeset=reader.GetTimeSets()\n",
    "time=timeset.GetItem(0)\n",
    "timesteps=time.GetSize()"
   ]
  },
  {
   "cell_type": "code",
   "execution_count": null,
   "metadata": {},
   "outputs": [],
   "source": [
    "scalar_field_name = \"solar_shading_coeff\"\n",
    "\n",
    "print(\"Number of timesteps: \", timesteps)\n",
    "print(\"Number of cells: \", reader.GetOutput().GetBlock(0).GetNumberOfCells())\n",
    "print(\"Number of sc points: \", reader.GetOutput().GetBlock(0).GetCellData().GetArray(scalar_field_name).GetNumberOfTuples())"
   ]
  },
  {
   "cell_type": "code",
   "execution_count": null,
   "metadata": {},
   "outputs": [],
   "source": [
    "#TODO:\n",
    "# Save the data in a numpy array ( not scalable for larger datasets )\n",
    "\n",
    "for t in range(timesteps):\n",
    "   #Update timestep\n",
    "   reader.SetTimeValue(time.GetValue(t))\n",
    "   reader.Update()\n",
    "\n",
    "   #Get the cell data\n",
    "   output = reader.GetOutput().GetBlock(0)\n",
    "   cell_data = output.GetCellData()\n",
    "   field_array = cell_data.GetArray(scalar_field_name)\n",
    "\n",
    "   for i in range(output.GetNumberOfCells()):\n",
    "      cell = output.GetCell(i)\n",
    "\n",
    "      cell_points = cell.GetPoints()\n",
    "      \n",
    "      np_cell_points = np.array([cell_points.GetPoint(i) for i in range(cell_points.GetNumberOfPoints())])\n",
    "      print(\"Mesh cell : \",np_cell_points)\n",
    "\n",
    "      cell_value = field_array.GetTuple(i)\n",
    "      print(\"solar mask coefficient\" , cell_value)\n",
    "      \n",
    "      break\n",
    "   break"
   ]
  }
 ],
 "metadata": {
  "kernelspec": {
   "display_name": "Python 3",
   "language": "python",
   "name": "python3"
  },
  "language_info": {
   "codemirror_mode": {
    "name": "ipython",
    "version": 3
   },
   "file_extension": ".py",
   "mimetype": "text/x-python",
   "name": "python",
   "nbconvert_exporter": "python",
   "pygments_lexer": "ipython3",
   "version": "3.12.3"
  }
 },
 "nbformat": 4,
 "nbformat_minor": 2
}
