{
 "cells": [
  {
   "cell_type": "code",
   "execution_count": 1,
   "metadata": {},
   "outputs": [
    {
     "name": "stderr",
     "output_type": "stream",
     "text": [
      "/Users/cladellash/Library/Python/3.9/lib/python/site-packages/urllib3/__init__.py:35: NotOpenSSLWarning: urllib3 v2 only supports OpenSSL 1.1.1+, currently the 'ssl' module is compiled with 'LibreSSL 2.8.3'. See: https://github.com/urllib3/urllib3/issues/3020\n",
      "  warnings.warn(\n"
     ]
    }
   ],
   "source": [
    "import pyvista as pv\n",
    "from vtk import  *\n",
    "import numpy as np\n",
    "from feelpp.ktirio.hpdaml.readers import CkanDownloader, EnsightReader"
   ]
  },
  {
   "cell_type": "markdown",
   "metadata": {},
   "source": [
    "Download the file from CKAN"
   ]
  },
  {
   "cell_type": "code",
   "execution_count": 2,
   "metadata": {},
   "outputs": [],
   "source": [
    "ckan_downloader = CkanDownloader(\n",
    "    base_ckan_url = 'https://ckan.hidalgo2.eu/dataset',\n",
    "    org_id = \"e266b5c9-f4b3-45e3-98db-dcecc6e46cfd\",\n",
    "    package_id = \"ac506dfd-0d90-4655-aedb-15f42640aac4\",\n",
    "    resource_filename = \"strasbourg_sm_lod1.zip\"\n",
    ")\n",
    "zip_folder = ckan_downloader.download()"
   ]
  },
  {
   "cell_type": "markdown",
   "metadata": {},
   "source": [
    "Read the downloaded case file (inside zip folder) "
   ]
  },
  {
   "cell_type": "code",
   "execution_count": 3,
   "metadata": {},
   "outputs": [],
   "source": [
    "ensight_reader = EnsightReader()\n",
    "reader = ensight_reader.readCase(zip_folder + \"City_Energy_Modeling.case\")"
   ]
  },
  {
   "cell_type": "markdown",
   "metadata": {},
   "source": [
    "Get the time information"
   ]
  },
  {
   "cell_type": "code",
   "execution_count": 4,
   "metadata": {},
   "outputs": [],
   "source": [
    "time,nb_timesteps = ensight_reader.getTimeset()"
   ]
  },
  {
   "cell_type": "code",
   "execution_count": 5,
   "metadata": {},
   "outputs": [
    {
     "name": "stdout",
     "output_type": "stream",
     "text": [
      "Number of timesteps:  731\n"
     ]
    }
   ],
   "source": [
    "print(\"Number of timesteps: \", nb_timesteps)"
   ]
  },
  {
   "cell_type": "markdown",
   "metadata": {},
   "source": [
    "Get the mesh"
   ]
  },
  {
   "cell_type": "code",
   "execution_count": 6,
   "metadata": {},
   "outputs": [
    {
     "name": "stdout",
     "output_type": "stream",
     "text": [
      "Number of cells: 212692\n",
      "Points per cell: 3\n",
      "Dimension: 3\n"
     ]
    }
   ],
   "source": [
    "numpy_mesh = ensight_reader.getMesh()\n",
    "\n",
    "print(\"Number of cells:\", numpy_mesh.shape[0])\n",
    "print(\"Points per cell:\", numpy_mesh.shape[1])\n",
    "print(\"Dimension:\", numpy_mesh.shape[2])"
   ]
  },
  {
   "cell_type": "code",
   "execution_count": 7,
   "metadata": {},
   "outputs": [
    {
     "data": {
      "text/plain": [
       "array([[-539.26898193,  600.04998779,    0.        ],\n",
       "       [-538.49597168,  599.625     ,    0.        ],\n",
       "       [-538.98797607,  599.625     ,    0.        ]])"
      ]
     },
     "execution_count": 7,
     "metadata": {},
     "output_type": "execute_result"
    }
   ],
   "source": [
    "numpy_mesh[0]"
   ]
  },
  {
   "cell_type": "markdown",
   "metadata": {},
   "source": [
    "Read the solar masks for one timestep"
   ]
  },
  {
   "cell_type": "code",
   "execution_count": 8,
   "metadata": {},
   "outputs": [
    {
     "name": "stdout",
     "output_type": "stream",
     "text": [
      "(212692,)\n"
     ]
    }
   ],
   "source": [
    "timestep = 0\n",
    "\n",
    "coeffs_one_timestep = ensight_reader.readTimestep(timestep=timestep)\n",
    "print(\"Number of coefficients : \"coeffs_one_timestep.shape)"
   ]
  },
  {
   "cell_type": "markdown",
   "metadata": {},
   "source": [
    "Read multiple timesteps"
   ]
  },
  {
   "cell_type": "code",
   "execution_count": 9,
   "metadata": {},
   "outputs": [
    {
     "name": "stdout",
     "output_type": "stream",
     "text": [
      "(212692,)\n"
     ]
    }
   ],
   "source": [
    "for t in range(nb_timesteps):\n",
    "    coeff = ensight_reader.readTimestep(timestep=t)\n",
    "    print(coeff.shape)\n",
    "    break"
   ]
  }
 ],
 "metadata": {
  "kernelspec": {
   "display_name": "Python 3",
   "language": "python",
   "name": "python3"
  },
  "language_info": {
   "codemirror_mode": {
    "name": "ipython",
    "version": 3
   },
   "file_extension": ".py",
   "mimetype": "text/x-python",
   "name": "python",
   "nbconvert_exporter": "python",
   "pygments_lexer": "ipython3",
   "version": "3.9.6"
  }
 },
 "nbformat": 4,
 "nbformat_minor": 2
}
