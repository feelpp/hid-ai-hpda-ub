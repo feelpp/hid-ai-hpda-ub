{
 "cells": [
  {
   "cell_type": "markdown",
   "id": "24860b03-131e-488d-a5d1-6f4b44521a13",
   "metadata": {},
   "source": [
    "## General Description\n",
    "\n",
    "This script reads data from a VTK EnSight Gold binary file and processes it to extract information about solar shading coefficients and the geometry of cells over a series of timesteps. The key steps include:\n",
    "\n",
    "1. **Setting up the Reader**: The script initializes a VTK reader for the EnSight Gold binary file format and configures it to read all variables from a specified case file.\n",
    "\n",
    "2. **Processing Data for Each Timestep**: For each timestep, the script updates the reader with the current time value, retrieves cell data including solar shading coefficients, and extracts the geometric points defining each cell. This data is combined and  converted into a pandas DataFrame with appropriate column names.\n",
    "\n",
    "3. **Calculating the Area of Triangles**: A function calculates the area of a triangle given its vertices. This function is used to compute the area for each triangle (cell) in the DataFrame, and these areas are added as a new column in the DataFrame.\n",
    "\n",
    "4. **Saving the Data**: The resulting DataFrame is saved to a CSV file for further analysis or use.\n",
    "\n",
    "This script provides a comprehensive framework for reading, processing, and analyzing time-dependent geometric and scalar data from a VTK EnSight Gold binary file.\n"
   ]
  },
  {
   "cell_type": "code",
   "execution_count": null,
   "id": "61ee8919-195b-4d1f-8ff1-a94603596143",
   "metadata": {},
   "outputs": [],
   "source": [
    "import vtk\n",
    "\n",
    "# Setup the reader\n",
    "# We suppose that the necessary files are in the same directory as the notebook\n",
    "case_file = \"strasbourg_sm_lod1/exports/City_Energy_Modeling.case\"\n",
    "# Setup the reader\n",
    "reader = vtk.vtkEnSightGoldBinaryReader()\n",
    "reader.SetCaseFileName(case_file)\n",
    "reader.ReadAllVariablesOn()  # Ensure all variables are read\n",
    "reader.Update()\n",
    "\n",
    "# Retrieve the output\n",
    "output = reader.GetOutput()\n",
    "timeset=reader.GetTimeSets()\n",
    "time=timeset.GetItem(0)\n",
    "timesteps=time.GetSize()"
   ]
  },
  {
   "cell_type": "code",
   "execution_count": null,
   "id": "96eede0d-c63e-4187-94e0-f473df853c42",
   "metadata": {},
   "outputs": [],
   "source": [
    "print(\"Number of timesteps: \", timesteps)\n",
    "print(\"Number of cells: \", reader.GetOutput().GetBlock(0).GetNumberOfCells())\n",
    "print(\"Number of scalar points?: \", reader.GetOutput().GetBlock(0).GetCellData().GetArray(\"solar_shading_coeff\").GetNumberOfTuples())"
   ]
  },
  {
   "cell_type": "code",
   "execution_count": null,
   "id": "837d2acc",
   "metadata": {},
   "outputs": [],
   "source": [
    "import numpy as np"
   ]
  },
  {
   "cell_type": "code",
   "execution_count": null,
   "id": "dd8125e0",
   "metadata": {},
   "outputs": [],
   "source": [
    "id_reader = vtk.vtkEnSightGoldBinaryReader()\n",
    "id_reader.SetCaseFileName(\"strasbourg_sm_lod1/export_ids/City_Energy_Modeling.case\")\n",
    "id_reader.ReadAllVariablesOn()\n",
    "id_reader.Update()\n",
    "\n",
    "id_reader.SetTimeValue(id_reader.GetTimeSets().GetItem(0).GetValue(0))\n",
    "id_reader.Update()\n",
    "output = id_reader.GetOutput().GetBlock(0)\n",
    "cell_data = output.GetCellData()\n",
    "building_ids = cell_data.GetArray(\"building_id\")\n",
    "building_element_ids = cell_data.GetArray(\"building_element_id\")\n",
    "\n",
    "bids = []\n",
    "beids = []\n",
    "\n",
    "for i in range(output.GetNumberOfCells()):\n",
    "    bid_part1, bid_part2, bid_part3 = building_ids.GetTuple(i)\n",
    "    bid_part1 = np.int64(bid_part1)\n",
    "    bid_part2 = np.int64(bid_part2) << 22\n",
    "    bid_part3 = np.int64(bid_part3) << 44\n",
    "    bids.append(bid_part1+bid_part2+bid_part3)\n",
    "\n",
    "    beids.append(int(building_element_ids.GetTuple(i)[0]))"
   ]
  },
  {
   "cell_type": "code",
   "execution_count": null,
   "id": "4520ecd8",
   "metadata": {},
   "outputs": [],
   "source": [
    "print(f\"# Building IDs : {np.unique(bids).shape[0]}\")\n",
    "print(f\"# Unique building face ids : {np.unique(beids).shape[0]} -- from  {min(beids)} to {max(beids)}\")"
   ]
  },
  {
   "cell_type": "markdown",
   "id": "15d2113f",
   "metadata": {},
   "source": [
    "Get the mesh"
   ]
  },
  {
   "cell_type": "code",
   "execution_count": null,
   "id": "7f7bc88b",
   "metadata": {},
   "outputs": [],
   "source": [
    "import numpy as np\n",
    "\n",
    "output = reader.GetOutput().GetBlock(0)\n",
    "mesh = np.empty((output.GetNumberOfCells(),3,3))\n",
    "for i in range(output.GetNumberOfCells()):\n",
    "    #TODO: Slow, there should be a better way to convert to numpy\n",
    "    cell = output.GetCell(i)\n",
    "    cell_points = cell.GetPoints()\n",
    "    mesh[i] = np.array([cell_points.GetPoint(i) for i in range(cell_points.GetNumberOfPoints())])"
   ]
  },
  {
   "cell_type": "markdown",
   "id": "fb5f26e5",
   "metadata": {},
   "source": [
    "# Inverse Mercator projection"
   ]
  },
  {
   "cell_type": "markdown",
   "id": "48772528",
   "metadata": {},
   "source": [
    "### Getting the reference coordinates"
   ]
  },
  {
   "cell_type": "markdown",
   "id": "26ae5386",
   "metadata": {},
   "source": [
    "Read the GIS file"
   ]
  },
  {
   "cell_type": "code",
   "execution_count": null,
   "id": "1205003a",
   "metadata": {},
   "outputs": [],
   "source": [
    "import json\n",
    "\n",
    "gis_path = \"gis.json\"\n",
    "\n",
    "with open(gis_path,\"r\") as f:\n",
    "    gis = json.load(f)\n",
    "\n",
    "reference_coordinates = gis[\"referenceCoordinates\"]\n",
    "print(\"Reference coordinates: \", reference_coordinates)\n"
   ]
  },
  {
   "cell_type": "code",
   "execution_count": null,
   "id": "2c4ef203",
   "metadata": {},
   "outputs": [],
   "source": [
    "true_ids = np.array([building[\"id\"] for building in gis[\"building\"]])"
   ]
  },
  {
   "cell_type": "code",
   "execution_count": null,
   "id": "1452221e",
   "metadata": {},
   "outputs": [],
   "source": [
    "len(np.setdiff1d(np.unique(bids),true_ids)), len(np.setdiff1d(true_ids,np.unique(bids)))"
   ]
  },
  {
   "cell_type": "markdown",
   "id": "1ffe1d19",
   "metadata": {},
   "source": [
    "Inverse Mercator projection"
   ]
  },
  {
   "cell_type": "code",
   "execution_count": null,
   "id": "fbf0942e",
   "metadata": {},
   "outputs": [],
   "source": [
    "import numpy as np\n",
    "\n",
    "\n",
    "R_MAJOR = 6378137.0\n",
    "R_MINOR=6356752.3142\n",
    "ECCENT=np.sqrt(1-(R_MINOR/R_MAJOR)**2)\n",
    "COM = 0.5 * ECCENT\n",
    "SCALE_FACTOR = 1./np.cos(np.deg2rad(reference_coordinates[0]))\n",
    "\n",
    "\n",
    "def xToLon(x):\n",
    "    return np.rad2deg(x*SCALE_FACTOR/R_MAJOR)\n",
    "\n",
    "def yToLat(y):\n",
    "    return np.rad2deg(np.pi/2 - 2 * np.arctan(np.exp( -y / R_MAJOR)))"
   ]
  },
  {
   "cell_type": "markdown",
   "id": "8f7b9065",
   "metadata": {},
   "source": [
    "Validate"
   ]
  },
  {
   "cell_type": "code",
   "execution_count": null,
   "id": "a8e40681",
   "metadata": {},
   "outputs": [],
   "source": [
    "latlon_mesh = np.empty((mesh.shape[0],mesh.shape[1],3))\n",
    "\n",
    "latlon_mesh[:,:,0] = xToLon(mesh[:,:,0]) + reference_coordinates[1]\n",
    "latlon_mesh[:,:,1] = yToLat(mesh[:,:,1]) + reference_coordinates[0]\n",
    "latlon_mesh[:,:,2] = mesh[:,:,2]"
   ]
  },
  {
   "cell_type": "code",
   "execution_count": null,
   "id": "dd5dcc29",
   "metadata": {},
   "outputs": [],
   "source": [
    "import plotly.graph_objects as go\n",
    "\n",
    "go.Figure(\n",
    "    data=[\n",
    "        go.Scattermapbox(\n",
    "            lon=latlon_mesh[:10000,0,0],\n",
    "            lat=latlon_mesh[:10000,0,1],\n",
    "            mode='markers',\n",
    "            marker=dict(size=5,color='red'),\n",
    "        )\n",
    "    ],\n",
    "    layout = go.Layout(\n",
    "        margin ={'l':0,'t':0,'b':0,'r':0},\n",
    "        mapbox = {\n",
    "            'style': \"open-street-map\",\n",
    "            'center': {'lon': reference_coordinates[1], 'lat': reference_coordinates[0]},\n",
    "            'zoom': 13}\n",
    "    )\n",
    ").show()"
   ]
  },
  {
   "cell_type": "markdown",
   "id": "69e8e41c",
   "metadata": {},
   "source": [
    "Free the memory (Assuming we will convert the coordinates after)"
   ]
  },
  {
   "cell_type": "markdown",
   "id": "2b0e67e6-39ca-4eed-954d-2e210306a996",
   "metadata": {},
   "source": [
    "## Panda Dataframes"
   ]
  },
  {
   "cell_type": "code",
   "execution_count": null,
   "id": "db60d12d-b71a-41e7-a11f-14bfafe3d00a",
   "metadata": {},
   "outputs": [],
   "source": [
    "# import numpy as np\n",
    "# import pandas as pd\n",
    "\n",
    "# # Initialize an empty list to accumulate the arrays\n",
    "# data = []\n",
    "\n",
    "# for t in range(timesteps):\n",
    "#     reader.SetTimeValue(time.GetValue(t))\n",
    "#     reader.Update()\n",
    "#     output = reader.GetOutput().GetBlock(0)\n",
    "#     cell_data = output.GetCellData()\n",
    "#     sc = cell_data.GetArray(\"solar_shading_coeff\")\n",
    "\n",
    "\n",
    "#     for i in range(output.GetNumberOfCells()):\n",
    "#         cell = output.GetCell(i)\n",
    "#         pts = cell.GetPoints()\n",
    "#         scalar = sc.GetTuple(i)\n",
    "#         np_pts = np.array([pts.GetPoint(j) for j in range(pts.GetNumberOfPoints())])\n",
    "        \n",
    "#         flattened_pts = np_pts.flatten()\n",
    "#         combined_data = np.append(flattened_pts, scalar[0])\n",
    "        \n",
    "#         # Append the timestep and combined data to the list\n",
    "#         data.append([t] + combined_data.tolist())\n",
    "#         # data.append(np.insert(combined_data, 0, t))\n",
    "\n",
    "# # Create column names for the DataFrame\n",
    "# columns = ['timestep'] + ['x_1'] + ['y_1'] + ['z_1'] + ['x_2'] + ['y_2'] + ['z_2'] + ['x_3'] + ['y_3'] + ['z_3'] + ['scalar']\n",
    "\n",
    "# # Convert the list to a DataFrame\n",
    "# df = pd.DataFrame(data, columns=columns)\n",
    "\n",
    "# # Function to calculate the area of a triangle given its vertices\n",
    "# def calculate_triangle_area(p1, p2, p3):\n",
    "#     # Calculate the vectors for two sides of the triangle\n",
    "#     v1 = p2 - p1\n",
    "#     v2 = p3 - p1\n",
    "#     # Calculate the cross product of the vectors\n",
    "#     cross_product = np.cross(v1, v2)\n",
    "#     # Calculate the area of the triangle (0.5 * magnitude of the cross product)\n",
    "#     area = 0.5 * np.linalg.norm(cross_product)\n",
    "#     return area\n",
    "\n",
    "# # Calculate the area for each triangle and add it as a new column\n",
    "# areas = []\n",
    "# for index, row in df.iterrows():\n",
    "#     p1 = np.array([row['x_1'], row['y_1'], row['z_1']])\n",
    "#     p2 = np.array([row['x_2'], row['y_2'], row['z_2']])\n",
    "#     p3 = np.array([row['x_3'], row['y_3'], row['z_3']])\n",
    "#     area = calculate_triangle_area(p1, p2, p3)\n",
    "#     areas.append(area)\n",
    "\n",
    "# df['area'] = areas\n",
    "\n",
    "# # Print the resulting DataFrame\n",
    "# print(df.head())\n"
   ]
  },
  {
   "cell_type": "markdown",
   "id": "d313c300",
   "metadata": {},
   "source": [
    "**To DataFrame**\n",
    "\n",
    "Do this only if you REALLY need to have the data in tabular format. Otherwise, keep working with numpy.\n",
    "\n",
    "When having a tabular format, you are using approx. 11GB of RAM, when you could easily only use approx 1.25GB."
   ]
  },
  {
   "cell_type": "markdown",
   "id": "268438f3",
   "metadata": {},
   "source": [
    "Flatten the mesh"
   ]
  },
  {
   "cell_type": "code",
   "execution_count": null,
   "id": "3a0dc9d3",
   "metadata": {},
   "outputs": [],
   "source": [
    "flat_mesh = mesh.reshape(-1,mesh.shape[1]*mesh.shape[2])\n",
    "print(\"Flattened mesh shape: \",flat_mesh.shape)"
   ]
  },
  {
   "cell_type": "code",
   "execution_count": null,
   "id": "13d071e9",
   "metadata": {},
   "outputs": [],
   "source": [
    "import pandas as pd\n",
    "\n",
    "data = []\n",
    "\n",
    "for t in range(timesteps):\n",
    "    reader.SetTimeValue(time.GetValue(t))\n",
    "    reader.Update()\n",
    "    output = reader.GetOutput().GetBlock(0)\n",
    "    cell_data = output.GetCellData()\n",
    "    sc_field = cell_data.GetArray(\"solar_shading_coeff\")\n",
    "\n",
    "    sc_array = np.empty((output.GetNumberOfCells(),1))\n",
    "    for i in range(output.GetNumberOfCells()):\n",
    "        sc_array[i] = sc_field.GetTuple(i)[0]\n",
    "\n",
    "    assert sc_array.shape[0] == flat_mesh.shape[0], \"Solar shading coefficient and mesh do not have the same number of cells\"\n",
    "\n",
    "    tmp_data = np.hstack(((np.ones(sc_array.shape[0])*t).reshape(-1,1),flat_mesh))\n",
    "    tmp_data = np.hstack((tmp_data,sc_array))\n",
    "    data.append(tmp_data)\n",
    "\n",
    "\n",
    "    if t % 50 == 0:\n",
    "        print(\"Processed timestep \", t)\n",
    "\n",
    "\n",
    "del tmp_data\n",
    "del sc_array"
   ]
  },
  {
   "cell_type": "markdown",
   "id": "7e04a14b",
   "metadata": {},
   "source": [
    "Creating the DataFrame"
   ]
  },
  {
   "cell_type": "code",
   "execution_count": null,
   "id": "c5b74c02",
   "metadata": {},
   "outputs": [],
   "source": [
    "columns=['timestep','x_1','y_1','z_1','x_2','y_2','z_2','x_3','y_3','z_3','scalar']\n",
    "df = pd.DataFrame(np.vstack(data).reshape(-1,len(columns)),columns=columns)\n",
    "del data"
   ]
  },
  {
   "cell_type": "markdown",
   "id": "0a4bdfd8",
   "metadata": {},
   "source": [
    "**Compute the triangle area**"
   ]
  },
  {
   "cell_type": "code",
   "execution_count": null,
   "id": "418092da",
   "metadata": {},
   "outputs": [],
   "source": [
    "areas = 0.5*np.linalg.norm(\n",
    "    np.cross(\n",
    "        mesh[:,1]-mesh[:,0],\n",
    "        mesh[:,2]-mesh[:,0]\n",
    "    ), axis=1\n",
    ")\n",
    "\n",
    "df[\"area\"] = np.array([areas]*timesteps).reshape(-1,1)"
   ]
  },
  {
   "cell_type": "markdown",
   "id": "2102474b",
   "metadata": {},
   "source": [
    "Validate"
   ]
  },
  {
   "cell_type": "code",
   "execution_count": null,
   "id": "24f8b5dd",
   "metadata": {},
   "outputs": [],
   "source": [
    "df.shape"
   ]
  },
  {
   "cell_type": "code",
   "execution_count": null,
   "id": "8d5d849d",
   "metadata": {},
   "outputs": [],
   "source": [
    "df.tail(10)"
   ]
  },
  {
   "cell_type": "markdown",
   "id": "bd856f32",
   "metadata": {},
   "source": [
    "To CSV"
   ]
  },
  {
   "cell_type": "code",
   "execution_count": null,
   "id": "7e470e53-0506-43a2-9d12-50deef85fbfa",
   "metadata": {},
   "outputs": [],
   "source": [
    "df.to_csv('initial_dataframe.csv', index=False)"
   ]
  },
  {
   "cell_type": "markdown",
   "id": "d6d2956d",
   "metadata": {},
   "source": [
    "## Using Numpy"
   ]
  },
  {
   "cell_type": "code",
   "execution_count": null,
   "id": "f9d2f870",
   "metadata": {},
   "outputs": [],
   "source": [
    "solar_shading_in_time = np.empty((mesh.shape[0],timesteps))\n",
    "\n",
    "for t in range(timesteps):\n",
    "    reader.SetTimeValue(time.GetValue(t))\n",
    "    reader.Update()\n",
    "    output = reader.GetOutput().GetBlock(0)\n",
    "    cell_data = output.GetCellData()\n",
    "    sc_field = cell_data.GetArray(\"solar_shading_coeff\")\n",
    "\n",
    "    for i in range(output.GetNumberOfCells()):\n",
    "        solar_shading_in_time[i,t] = sc_field.GetTuple(i)[0]"
   ]
  },
  {
   "cell_type": "markdown",
   "id": "2a03de87",
   "metadata": {},
   "source": [
    "## Some example statistics"
   ]
  },
  {
   "cell_type": "code",
   "execution_count": null,
   "id": "3b44a3be",
   "metadata": {},
   "outputs": [],
   "source": [
    "sample_size = 10000\n",
    "latlon_mesh_sample = latlon_mesh[:sample_size]\n",
    "solar_shading_sample = solar_shading_in_time[:sample_size]\n",
    "t = 130\n",
    "\n",
    "#This takes all faces, so points in a 2d plot will be repeated."
   ]
  },
  {
   "cell_type": "code",
   "execution_count": null,
   "id": "cef2571b",
   "metadata": {},
   "outputs": [],
   "source": [
    "\n",
    "go.Figure(\n",
    "    data=[\n",
    "        go.Scattermapbox(\n",
    "            lon=latlon_mesh_sample[:,0,0],\n",
    "            lat=latlon_mesh_sample[:,0,1],\n",
    "            mode='markers',\n",
    "            marker=dict(size=6,color=solar_shading_sample[:,t],colorscale='rdbu',cmin=0,cmax=1),\n",
    "        )\n",
    "    ],\n",
    "    layout = go.Layout(\n",
    "        margin ={'l':0,'t':0,'b':0,'r':0},\n",
    "        mapbox = {\n",
    "            'style': \"open-street-map\",\n",
    "            'center': {'lon': reference_coordinates[1], 'lat': reference_coordinates[0]},\n",
    "            'zoom': 13},\n",
    "    )\n",
    ").show()"
   ]
  },
  {
   "cell_type": "code",
   "execution_count": null,
   "id": "32c5c2e4",
   "metadata": {},
   "outputs": [],
   "source": []
  }
 ],
 "metadata": {
  "kernelspec": {
   "display_name": "Python 3 (ipykernel)",
   "language": "python",
   "name": "python3"
  },
  "language_info": {
   "codemirror_mode": {
    "name": "ipython",
    "version": 3
   },
   "file_extension": ".py",
   "mimetype": "text/x-python",
   "name": "python",
   "nbconvert_exporter": "python",
   "pygments_lexer": "ipython3",
   "version": "3.9.6"
  }
 },
 "nbformat": 4,
 "nbformat_minor": 5
}
